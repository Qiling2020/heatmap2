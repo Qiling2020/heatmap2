{
 "cells": [
  {
   "cell_type": "code",
   "execution_count": 1,
   "metadata": {},
   "outputs": [
    {
     "data": {
      "text/html": [
       "<div style=\"width:100%;\"><div style=\"position:relative;width:100%;height:0;padding-bottom:60%;\"><span style=\"color:#565656\">Make this Notebook Trusted to load map: File -> Trust Notebook</span><iframe src=\"about:blank\" style=\"position:absolute;width:100%;height:100%;left:0;top:0;border:none !important;\" data-html=PCFET0NUWVBFIGh0bWw+CjxoZWFkPiAgICAKICAgIDxtZXRhIGh0dHAtZXF1aXY9ImNvbnRlbnQtdHlwZSIgY29udGVudD0idGV4dC9odG1sOyBjaGFyc2V0PVVURi04IiAvPgogICAgCiAgICAgICAgPHNjcmlwdD4KICAgICAgICAgICAgTF9OT19UT1VDSCA9IGZhbHNlOwogICAgICAgICAgICBMX0RJU0FCTEVfM0QgPSBmYWxzZTsKICAgICAgICA8L3NjcmlwdD4KICAgIAogICAgPHNjcmlwdCBzcmM9Imh0dHBzOi8vY2RuLmpzZGVsaXZyLm5ldC9ucG0vbGVhZmxldEAxLjYuMC9kaXN0L2xlYWZsZXQuanMiPjwvc2NyaXB0PgogICAgPHNjcmlwdCBzcmM9Imh0dHBzOi8vY29kZS5qcXVlcnkuY29tL2pxdWVyeS0xLjEyLjQubWluLmpzIj48L3NjcmlwdD4KICAgIDxzY3JpcHQgc3JjPSJodHRwczovL21heGNkbi5ib290c3RyYXBjZG4uY29tL2Jvb3RzdHJhcC8zLjIuMC9qcy9ib290c3RyYXAubWluLmpzIj48L3NjcmlwdD4KICAgIDxzY3JpcHQgc3JjPSJodHRwczovL2NkbmpzLmNsb3VkZmxhcmUuY29tL2FqYXgvbGlicy9MZWFmbGV0LmF3ZXNvbWUtbWFya2Vycy8yLjAuMi9sZWFmbGV0LmF3ZXNvbWUtbWFya2Vycy5qcyI+PC9zY3JpcHQ+CiAgICA8bGluayByZWw9InN0eWxlc2hlZXQiIGhyZWY9Imh0dHBzOi8vY2RuLmpzZGVsaXZyLm5ldC9ucG0vbGVhZmxldEAxLjYuMC9kaXN0L2xlYWZsZXQuY3NzIi8+CiAgICA8bGluayByZWw9InN0eWxlc2hlZXQiIGhyZWY9Imh0dHBzOi8vbWF4Y2RuLmJvb3RzdHJhcGNkbi5jb20vYm9vdHN0cmFwLzMuMi4wL2Nzcy9ib290c3RyYXAubWluLmNzcyIvPgogICAgPGxpbmsgcmVsPSJzdHlsZXNoZWV0IiBocmVmPSJodHRwczovL21heGNkbi5ib290c3RyYXBjZG4uY29tL2Jvb3RzdHJhcC8zLjIuMC9jc3MvYm9vdHN0cmFwLXRoZW1lLm1pbi5jc3MiLz4KICAgIDxsaW5rIHJlbD0ic3R5bGVzaGVldCIgaHJlZj0iaHR0cHM6Ly9tYXhjZG4uYm9vdHN0cmFwY2RuLmNvbS9mb250LWF3ZXNvbWUvNC42LjMvY3NzL2ZvbnQtYXdlc29tZS5taW4uY3NzIi8+CiAgICA8bGluayByZWw9InN0eWxlc2hlZXQiIGhyZWY9Imh0dHBzOi8vY2RuanMuY2xvdWRmbGFyZS5jb20vYWpheC9saWJzL0xlYWZsZXQuYXdlc29tZS1tYXJrZXJzLzIuMC4yL2xlYWZsZXQuYXdlc29tZS1tYXJrZXJzLmNzcyIvPgogICAgPGxpbmsgcmVsPSJzdHlsZXNoZWV0IiBocmVmPSJodHRwczovL3Jhd2Nkbi5naXRoYWNrLmNvbS9weXRob24tdmlzdWFsaXphdGlvbi9mb2xpdW0vbWFzdGVyL2ZvbGl1bS90ZW1wbGF0ZXMvbGVhZmxldC5hd2Vzb21lLnJvdGF0ZS5jc3MiLz4KICAgIDxzdHlsZT5odG1sLCBib2R5IHt3aWR0aDogMTAwJTtoZWlnaHQ6IDEwMCU7bWFyZ2luOiAwO3BhZGRpbmc6IDA7fTwvc3R5bGU+CiAgICA8c3R5bGU+I21hcCB7cG9zaXRpb246YWJzb2x1dGU7dG9wOjA7Ym90dG9tOjA7cmlnaHQ6MDtsZWZ0OjA7fTwvc3R5bGU+CiAgICAKICAgICAgICAgICAgPG1ldGEgbmFtZT0idmlld3BvcnQiIGNvbnRlbnQ9IndpZHRoPWRldmljZS13aWR0aCwKICAgICAgICAgICAgICAgIGluaXRpYWwtc2NhbGU9MS4wLCBtYXhpbXVtLXNjYWxlPTEuMCwgdXNlci1zY2FsYWJsZT1ubyIgLz4KICAgICAgICAgICAgPHN0eWxlPgogICAgICAgICAgICAgICAgI21hcF9iNWNlOWVkZTNjNGQ0N2EzOGFhMmI4NzZhZmQzOGYyNiB7CiAgICAgICAgICAgICAgICAgICAgcG9zaXRpb246IHJlbGF0aXZlOwogICAgICAgICAgICAgICAgICAgIHdpZHRoOiAxMDAuMCU7CiAgICAgICAgICAgICAgICAgICAgaGVpZ2h0OiAxMDAuMCU7CiAgICAgICAgICAgICAgICAgICAgbGVmdDogMC4wJTsKICAgICAgICAgICAgICAgICAgICB0b3A6IDAuMCU7CiAgICAgICAgICAgICAgICB9CiAgICAgICAgICAgIDwvc3R5bGU+CiAgICAgICAgCiAgICA8c2NyaXB0IHNyYz0iaHR0cHM6Ly9sZWFmbGV0LmdpdGh1Yi5pby9MZWFmbGV0LmhlYXQvZGlzdC9sZWFmbGV0LWhlYXQuanMiPjwvc2NyaXB0Pgo8L2hlYWQ+Cjxib2R5PiAgICAKICAgIAogICAgICAgICAgICA8ZGl2IGNsYXNzPSJmb2xpdW0tbWFwIiBpZD0ibWFwX2I1Y2U5ZWRlM2M0ZDQ3YTM4YWEyYjg3NmFmZDM4ZjI2IiA+PC9kaXY+CiAgICAgICAgCjwvYm9keT4KPHNjcmlwdD4gICAgCiAgICAKICAgICAgICAgICAgdmFyIG1hcF9iNWNlOWVkZTNjNGQ0N2EzOGFhMmI4NzZhZmQzOGYyNiA9IEwubWFwKAogICAgICAgICAgICAgICAgIm1hcF9iNWNlOWVkZTNjNGQ0N2EzOGFhMmI4NzZhZmQzOGYyNiIsCiAgICAgICAgICAgICAgICB7CiAgICAgICAgICAgICAgICAgICAgY2VudGVyOiBbMzMuMCwgMTEzLjBdLAogICAgICAgICAgICAgICAgICAgIGNyczogTC5DUlMuRVBTRzM4NTcsCiAgICAgICAgICAgICAgICAgICAgem9vbTogNSwKICAgICAgICAgICAgICAgICAgICB6b29tQ29udHJvbDogdHJ1ZSwKICAgICAgICAgICAgICAgICAgICBwcmVmZXJDYW52YXM6IGZhbHNlLAogICAgICAgICAgICAgICAgfQogICAgICAgICAgICApOwoKICAgICAgICAgICAgCgogICAgICAgIAogICAgCiAgICAgICAgICAgIHZhciB0aWxlX2xheWVyX2YyODQ5NjZlODBkNDRmMTRiZWQ4N2NkZTkxMGFjMTAzID0gTC50aWxlTGF5ZXIoCiAgICAgICAgICAgICAgICAiaHR0cHM6Ly9zdGFtZW4tdGlsZXMte3N9LmEuc3NsLmZhc3RseS5uZXQvdG9uZXIve3p9L3t4fS97eX0ucG5nIiwKICAgICAgICAgICAgICAgIHsiYXR0cmlidXRpb24iOiAiTWFwIHRpbGVzIGJ5IFx1MDAzY2EgaHJlZj1cImh0dHA6Ly9zdGFtZW4uY29tXCJcdTAwM2VTdGFtZW4gRGVzaWduXHUwMDNjL2FcdTAwM2UsIHVuZGVyIFx1MDAzY2EgaHJlZj1cImh0dHA6Ly9jcmVhdGl2ZWNvbW1vbnMub3JnL2xpY2Vuc2VzL2J5LzMuMFwiXHUwMDNlQ0MgQlkgMy4wXHUwMDNjL2FcdTAwM2UuIERhdGEgYnkgXHUwMDI2Y29weTsgXHUwMDNjYSBocmVmPVwiaHR0cDovL29wZW5zdHJlZXRtYXAub3JnXCJcdTAwM2VPcGVuU3RyZWV0TWFwXHUwMDNjL2FcdTAwM2UsIHVuZGVyIFx1MDAzY2EgaHJlZj1cImh0dHA6Ly93d3cub3BlbnN0cmVldG1hcC5vcmcvY29weXJpZ2h0XCJcdTAwM2VPRGJMXHUwMDNjL2FcdTAwM2UuIiwgImRldGVjdFJldGluYSI6IGZhbHNlLCAibWF4TmF0aXZlWm9vbSI6IDE4LCAibWF4Wm9vbSI6IDE4LCAibWluWm9vbSI6IDAsICJub1dyYXAiOiBmYWxzZSwgIm9wYWNpdHkiOiAxLCAic3ViZG9tYWlucyI6ICJhYmMiLCAidG1zIjogZmFsc2V9CiAgICAgICAgICAgICkuYWRkVG8obWFwX2I1Y2U5ZWRlM2M0ZDQ3YTM4YWEyYjg3NmFmZDM4ZjI2KTsKICAgICAgICAKICAgIAogICAgICAgICAgICB2YXIgaGVhdF9tYXBfNzYxZDZhNzE3ZmMzNGQ4MWEyZWIyZDNiODg1MzRkN2MgPSBMLmhlYXRMYXllcigKICAgICAgICAgICAgICAgIFtbMzkuOTA0MDMsIDExNi40MDc1MjYsIDIzMDE0LjU5XSwgWzM5LjA4NDE1OCwgMTE3LjIwMDk4MywgMTY1MzguMTldLCBbMzguMDQyMzA5LCAxMTQuNTE0ODYyLCA1NDQwLjZdLCBbMzcuODcwNTksIDExMi41NDg4NzksIDI3MzUuMzRdLCBbNDAuODQyNTg1LCAxMTEuNzQ5MTgsIDMwOTAuNTJdLCBbNDEuODA1Njk4LCAxMjMuNDMxNDc0LCA3MjcyLjMxXSwgWzM4LjkxNDAwMywgMTIxLjYxNDY4MiwgNzczMS42NF0sIFs0My44MTcwNzEsIDEyNS4zMjM1NDQsIDU1MzAuMDNdLCBbNDUuODAzNzc1LCAxMjYuNTM0OTY3LCA1NzUxLjIxXSwgWzMxLjIzMDQxNiwgMTIxLjQ3MzcwMSwgMjUxMjMuNDVdLCBbMzIuMDYwMjU1LCAxMTguNzk2ODc3LCA5NzIwLjc3XSwgWzMwLjI3NDA4NCwgMTIwLjE1NTA3LCAxMDA1MC4yMV0sIFsyOS44NzQ1NTYsIDEyMS41NTAzNTcsIDgwMDMuNjFdLCBbMzEuODIwNTg2LCAxMTcuMjI3MjM5LCA1NjYwLjI3XSwgWzI2LjA3NDUwNywgMTE5LjI5NjQ5NCwgNTYxOC4wOF0sIFsyNC40Nzk4MzMsIDExOC4wODk0MjUsIDM0NjYuMDNdLCBbMjguNjgyODkyLCAxMTUuODU4MTk3LCA0MDAwLjAxXSwgWzM2LjY1MTIxNiwgMTE3LjExOTk5OSwgNjEwMC4yM10sIFszNi4wNjcwODIsIDEyMC4zODI2MzksIDkzMDAuMDddLCBbMzQuNzQ2NTk5LCAxMTMuNjI1MzY4LCA3MzExLjUyXSwgWzMwLjU5MzA5OCwgMTE0LjMwNTM5MiwgMTA5MDUuNl0sIFsyOC4yMjgyMDksIDExMi45Mzg4MTQsIDg1MTAuMTNdLCBbMjMuMTI5MTYyLCAxMTMuMjY0NDM0LCAxODEwMC40MV0sIFsyMi41NDMwOTksIDExNC4wNTc4NjgsIDE3NTAyLjg2XSwgWzIyLjgxNzAwMiwgMTA4LjM2NjU0MywgMzQxMC4wOV0sIFsyMC4wNDQwMDEsIDExMC4xOTgyOTMsIDExNjEuOTZdLCBbMjkuNTYzMDA5LCAxMDYuNTUxNTU2LCAxNTcxNy4yN10sIFszMC41NzIyNjksIDEwNC4wNjY1NDEsIDEwODAxLjE2XSwgWzI2LjY0NzY2MSwgMTA2LjYzMDE1MywgMjg5MS4xNl0sIFsyNC44ODAwOTUsIDEwMi44MzI4OTEsIDM5NjguMDFdLCBbMjkuNjQ1NTU0LCA5MS4xNDA4NTYsIDM3Ni43M10sIFszNC4zNDE1NjgsIDEwOC45NDAxNzQsIDU4MDEuMl0sIFszNi4wNjEwODksIDEwMy44MzQzMDMsIDIwOTUuOTldLCBbMzYuNjE3MTQ0LCAxMDEuNzc4MjI4LCAxMTMxLjYyXSwgWzM4LjQ4NzE5MywgMTA2LjIzMDkwOSwgMTQ5My44Nl0sIFs0My44MjU1OTIsIDg3LjYxNjg0OCwgMjYzMS42NF1dLAogICAgICAgICAgICAgICAgeyJibHVyIjogMTUsICJtYXgiOiAxLjAsICJtYXhab29tIjogMTgsICJtaW5PcGFjaXR5IjogMC41LCAicmFkaXVzIjogMjV9CiAgICAgICAgICAgICkuYWRkVG8obWFwX2I1Y2U5ZWRlM2M0ZDQ3YTM4YWEyYjg3NmFmZDM4ZjI2KTsKICAgICAgICAKPC9zY3JpcHQ+ onload=\"this.contentDocument.open();this.contentDocument.write(atob(this.getAttribute('data-html')));this.contentDocument.close();\" allowfullscreen webkitallowfullscreen mozallowfullscreen></iframe></div></div>"
      ],
      "text/plain": [
       "<folium.folium.Map at 0x2dba1710948>"
      ]
     },
     "execution_count": 1,
     "metadata": {},
     "output_type": "execute_result"
    }
   ],
   "source": [
    "# 利用Python的开源模块Folium调用openstrertmap生成html，\n",
    "# 利用Python爬取的互联网地图的经纬度坐标与统计局公布的年度GDP数据结合，构造data（x,y,gdp）\n",
    "\n",
    "import os\n",
    "import folium\n",
    "import numpy as np\n",
    " \n",
    "data=[[\t39.90403\t,\t116.407526\t,\t23014.59\t]\t,\n",
    "[\t39.084158\t,\t117.200983\t,\t16538.19\t]\t,\n",
    "[\t38.042309\t,\t114.514862\t,\t5440.6\t]\t,\n",
    "[\t37.87059\t,\t112.548879\t,\t2735.34\t]\t,\n",
    "[\t40.842585\t,\t111.74918\t,\t3090.52\t]\t,\n",
    "[\t41.805698\t,\t123.431474\t,\t7272.31\t]\t,\n",
    "[\t38.914003\t,\t121.614682\t,\t7731.64\t]\t,\n",
    "[\t43.817071\t,\t125.323544\t,\t5530.03\t]\t,\n",
    "[\t45.803775\t,\t126.534967\t,\t5751.21\t]\t,\n",
    "[\t31.230416\t,\t121.473701\t,\t25123.45\t]\t,\n",
    "[\t32.060255\t,\t118.796877\t,\t9720.77\t]\t,\n",
    "[\t30.274084\t,\t120.15507\t,\t10050.21\t]\t,\n",
    "[\t29.874556\t,\t121.550357\t,\t8003.61\t]\t,\n",
    "[\t31.820586\t,\t117.227239\t,\t5660.27\t]\t,\n",
    "[\t26.074507\t,\t119.296494\t,\t5618.08\t]\t,\n",
    "[\t24.479833\t,\t118.089425\t,\t3466.03\t]\t,\n",
    "[\t28.682892\t,\t115.858197\t,\t4000.01\t]\t,\n",
    "[\t36.651216\t,\t117.119999\t,\t6100.23\t]\t,\n",
    "[\t36.067082\t,\t120.382639\t,\t9300.07\t]\t,\n",
    "[\t34.746599\t,\t113.625368\t,\t7311.52\t]\t,\n",
    "[\t30.593098\t,\t114.305392\t,\t10905.6\t]\t,\n",
    "[\t28.228209\t,\t112.938814\t,\t8510.13\t]\t,\n",
    "[\t23.129162\t,\t113.264434\t,\t18100.41\t]\t,\n",
    "[\t22.543099\t,\t114.057868\t,\t17502.86\t]\t,\n",
    "[\t22.817002\t,\t108.366543\t,\t3410.09\t]\t,\n",
    "[\t20.044001\t,\t110.198293\t,\t1161.96\t]\t,\n",
    "[\t29.563009\t,\t106.551556\t,\t15717.27\t]\t,\n",
    "[\t30.572269\t,\t104.066541\t,\t10801.16\t]\t,\n",
    "[\t26.647661\t,\t106.630153\t,\t2891.16\t]\t,\n",
    "[\t24.880095\t,\t102.832891\t,\t3968.01\t]\t,\n",
    "[\t29.645554\t,\t91.140856\t,\t376.73\t]\t,\n",
    "[\t34.341568\t,\t108.940174\t,\t5801.2\t]\t,\n",
    "[\t36.061089\t,\t103.834303\t,\t2095.99\t]\t,\n",
    "[\t36.617144\t,\t101.778228\t,\t1131.62\t]\t,\n",
    "[\t38.487193\t,\t106.230909\t,\t1493.86\t]\t,\n",
    "[\t43.825592\t,\t87.616848\t,\t2631.64\t]\t]\n",
    "#data = (np.random.normal(size=(100, 3)) *\n",
    "#        np.array([[1, 1, 1]]) +\n",
    "#       np.array([[48, 5, 1]])).tolist()\n",
    " \n",
    "from folium.plugins import HeatMap\n",
    " \n",
    "m = folium.Map([ 33., 113.], tiles='stamentoner', zoom_start=5)\n",
    " \n",
    "HeatMap(data).add_to(m)\n",
    " \n",
    "m.save(os.path.join(r'D:\\pytest', 'Heatmap.html'))\n",
    " \n",
    "m"
   ]
  },
  {
   "cell_type": "code",
   "execution_count": null,
   "metadata": {},
   "outputs": [],
   "source": []
  }
 ],
 "metadata": {
  "kernelspec": {
   "display_name": "Python 3",
   "language": "python",
   "name": "python3"
  },
  "language_info": {
   "codemirror_mode": {
    "name": "ipython",
    "version": 3
   },
   "file_extension": ".py",
   "mimetype": "text/x-python",
   "name": "python",
   "nbconvert_exporter": "python",
   "pygments_lexer": "ipython3",
   "version": "3.7.6"
  }
 },
 "nbformat": 4,
 "nbformat_minor": 4
}
